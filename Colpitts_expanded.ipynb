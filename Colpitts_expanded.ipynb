{
 "cells": [
  {
   "cell_type": "code",
   "execution_count": 1,
   "id": "9cd08221",
   "metadata": {},
   "outputs": [
    {
     "data": {
      "text/html": [
       "<style>.container { width:90% !important; }</style>"
      ],
      "text/plain": [
       "<IPython.core.display.HTML object>"
      ]
     },
     "metadata": {},
     "output_type": "display_data"
    }
   ],
   "source": [
    "import math\n",
    "import sympy as sym\n",
    "import matplotlib.pyplot as plt\n",
    "import numpy as np\n",
    "from IPython.core.interactiveshell import InteractiveShell\n",
    "InteractiveShell.ast_node_interactivity = 'all'\n",
    "from sympy.abc import beta\n",
    "from scipy.integrate import quad\n",
    "from scipy.special import gamma\n",
    "from sympy import I\n",
    "\n",
    "from IPython.display import display, HTML\n",
    "display(HTML(\"<style>.container { width:90% !important; }</style>\"))"
   ]
  },
  {
   "cell_type": "code",
   "execution_count": 170,
   "id": "5b995644",
   "metadata": {},
   "outputs": [],
   "source": [
    "c1, c2, c3, cb = 10e-9, 10e-9, 22e-9, 22e-8\n",
    "\n",
    "l, lch = 1e-6, 100e-6\n",
    "\n",
    "x = 5000\n",
    "r1, r2, r3, rl, rch = x, 1e4-x, 370.0, 2.0 , 12.0\n",
    "\n",
    "Is = 5e-13\n",
    "vs = 9.0\n",
    "vt = .025\n",
    "b  = 50\n",
    "alpha = b/(b+1)\n",
    "\n",
    "def f1(vc1, vc2, vc3, vcb, il, ich):\n",
    "    f1 = (1/c1)*(ich-alpha*ie(vc2, vc3, vcb)-il)\n",
    "    return f1\n",
    "\n",
    "def f2(vc1, vc2, vc3, vcb, il, ich):\n",
    "    f2 = (1/c2)*(vs/r1-(vcb+vc2)*(1/r1+1/r2)-(ie(vc2, vc3, vcb)/(b+1))+il)\n",
    "    return f2\n",
    "\n",
    "def f3(vc1, vc2, vc3, vcb, il, ich):\n",
    "    f3 = (1/c3)*(ie(vc2, vc3, vcb)-vc3/r3)\n",
    "    return f3\n",
    "\n",
    "def f4(vc1, vc2, vc3, vcb, il, ich):\n",
    "    f4 = (1/cb)*(vs/r1 - (vcb+vc2)*(1/r1+1/r2)-(ie(vc2, vc3, vcb)/(b+1)))\n",
    "    return f4\n",
    "\n",
    "def f5(vc1, vc2, vc3, vcb, il, ich):\n",
    "    f5 = (1/l)*(vc1-vc2-il*rl)\n",
    "    return f5\n",
    "\n",
    "def f6(vc1, vc2, vc3, vcb, il, ich):\n",
    "    f6 = (1/lch)*(vs-vc1-rch*ich)\n",
    "    return f6\n",
    "\n",
    "def ie(vc2, vc3, vcb):\n",
    "    ie = Is*(math.exp((vcb+vc2-vc3)/vt)-1)\n",
    "    return ie"
   ]
  },
  {
   "cell_type": "code",
   "execution_count": 171,
   "id": "46021e2f",
   "metadata": {},
   "outputs": [
    {
     "data": {
      "text/plain": [
       "269.57006370227714"
      ]
     },
     "execution_count": 171,
     "metadata": {},
     "output_type": "execute_result"
    },
    {
     "data": {
      "text/plain": [
       "0.7488057324840764"
      ]
     },
     "execution_count": 171,
     "metadata": {},
     "output_type": "execute_result"
    },
    {
     "data": {
      "text/plain": [
       "2.002405707505932e-10"
      ]
     },
     "execution_count": 171,
     "metadata": {},
     "output_type": "execute_result"
    },
    {
     "data": {
      "text/plain": [
       "0.01708194024866487"
      ]
     },
     "execution_count": 171,
     "metadata": {},
     "output_type": "execute_result"
    },
    {
     "data": {
      "text/plain": [
       "[0, 0, 6.320317892006002, 6.218574554522322, 0, 0, 0.01708194024866487]"
      ]
     },
     "execution_count": 171,
     "metadata": {},
     "output_type": "execute_result"
    },
    {
     "data": {
      "text/plain": [
       "-0.10174333748368003"
      ]
     },
     "execution_count": 171,
     "metadata": {},
     "output_type": "execute_result"
    }
   ],
   "source": [
    "#Halley's method\n",
    "delta = (r1**2*r2/2 + r1*r2**2 + r1*r2*rch + r2**2*rch)/(r1**2*r2 + r1**2*rch + r1*r2**2 + 2*r1*r2*rch + r2**2*rch)\n",
    "epsilon = -1*((-r1**2*r2**2/(2*(b + 1)) - r1**2*r2*r3 - r1**2*r2*rch/2 - r1**2*r2*rch/(2*(b + 1)) - r1**2*r3*rch - r1*r2**2*r3 - r1*r2**2*rch/2 - r1*r2**2*rch/(2*(b + 1)) - 2*r1*r2*r3*rch - r2**2*r3*rch)/(r1**2*r2 + r1**2*rch + r1*r2**2 + 2*r1*r2*rch + r2**2*rch))\n",
    "(delta*vs+epsilon*Is)/vt\n",
    "delta\n",
    "epsilon*Is\n",
    "z1 = (epsilon/vt)*np.exp((delta*vs+epsilon*Is)/vt)\n",
    "\n",
    "def lambert(z): \n",
    "    x = range(500)\n",
    "    w = 1\n",
    "    for i in x:\n",
    "        w = w - (w*math.exp(w) - z)/(math.exp(w)*(w+1)-((w+2)*(w*math.exp(w) - z))/(2*w+2))\n",
    "    return w\n",
    "\n",
    "W = lambert(z1)\n",
    "\n",
    "Ie = W*vt/epsilon - Is\n",
    "Ie\n",
    "\n",
    "vc20 = 0\n",
    "vc30 = Ie*r3\n",
    "vbe0 = delta*vs-epsilon*Ie\n",
    "vcb0 = vbe0 + vc30 - vc20\n",
    "\n",
    "w0 = np.sqrt((1/l)*((c1+c2)/(c1*c2)))\n",
    "\n",
    "x0 = [0,0,vc30,vcb0,0,0,Ie]\n",
    "x0\n",
    "vbe0"
   ]
  },
  {
   "cell_type": "code",
   "execution_count": 172,
   "id": "6206b52a",
   "metadata": {},
   "outputs": [],
   "source": [
    "def RK(t, h, x0):\n",
    "\n",
    "    f = [f1, f2, f3, f4, f5, f6] #FUNCTIONS AS DEFINED ABOVE\n",
    "    \n",
    "    k1 = [0,0,0,0,0,0,0] #THESE HOLD THE STATE VARIABLE VALUES FOR EACH STEP\n",
    "    k2 = [0,0,0,0,0,0,0]\n",
    "    k3 = [0,0,0,0,0,0,0]\n",
    "    k4 = [0,0,0,0,0,0,0]\n",
    "    \n",
    "    x1 = [x0[0]] #STATE VARIABLE ARRAYS\n",
    "    x2 = [x0[1]]\n",
    "    x3 = [x0[2]]\n",
    "    x4 = [x0[3]]\n",
    "    x5 = [x0[4]]\n",
    "    x6 = [x0[5]]\n",
    "\n",
    "    p = 0 #COUNTER VARIABLES\n",
    "    q = 0\n",
    "    \n",
    "    for i in t:\n",
    "        \n",
    "        for j in f:\n",
    "            k1[q] = j(x1[p], x2[p], x3[p], x4[p], x5[p], x6[p])\n",
    "            q+=1\n",
    "        q = 0\n",
    "        for j in f:\n",
    "            k2[q] = j(x1[p]+(h/2)*k1[0], x2[p]+(h/2)*k1[1], x3[p]+(h/2)*k1[2], x4[p]+(h/2)*k1[3], x5[p]+(h/2)*k1[4], x6[p]+(h/2)*k1[5])\n",
    "            q+=1\n",
    "        q = 0\n",
    "        k2\n",
    "        for j in f:\n",
    "            k3[q] = j(x1[p]+(h/2)*k2[0], x2[p]+(h/2)*k2[1], x3[p]+(h/2)*k2[2], x4[p]+(h/2)*k2[3], x5[p]+(h/2)*k2[4], x6[p]+(h/2)*k2[5])\n",
    "            q+=1\n",
    "        q = 0\n",
    "        for j in f:\n",
    "            k4[q] = j(x1[p]+h*k3[0], x2[p]+h*k3[1], x3[p]+h*k3[2], x4[p]+h*k3[3], x5[p]+h*k3[4], x6[p]+h*k3[5])\n",
    "            q+=1\n",
    "        q = 0\n",
    "        if p==len(t)-1: break\n",
    "        \n",
    "        x1.append(x1[p]+(h/6)*(k1[0]+2*k2[0]+2*k3[0]+k4[0]))\n",
    "        x2.append(x2[p]+(h/6)*(k1[1]+2*k2[1]+2*k3[1]+k4[1]))\n",
    "        x3.append(x3[p]+(h/6)*(k1[2]+2*k2[2]+2*k3[2]+k4[2]))\n",
    "        x4.append(x4[p]+(h/6)*(k1[3]+2*k2[3]+2*k3[3]+k4[3]))\n",
    "        x5.append(x5[p]+(h/6)*(k1[4]+2*k2[4]+2*k3[4]+k4[4]))\n",
    "        x6.append(x6[p]+(h/6)*(k1[5]+2*k2[5]+2*k3[5]+k4[5]))\n",
    "        \n",
    "        p+=1\n",
    "    return x1, x2, x3, x4, x5, x6"
   ]
  },
  {
   "cell_type": "code",
   "execution_count": 175,
   "id": "e48d8d21",
   "metadata": {},
   "outputs": [],
   "source": [
    "h = 0.0000000005\n",
    "t = np.arange(0, 0.0001, h)\n",
    "gah = RK(t, h, x0)"
   ]
  },
  {
   "cell_type": "code",
   "execution_count": 176,
   "id": "b4050517",
   "metadata": {},
   "outputs": [
    {
     "data": {
      "text/plain": [
       "[<matplotlib.lines.Line2D at 0x7f59717f6690>]"
      ]
     },
     "execution_count": 176,
     "metadata": {},
     "output_type": "execute_result"
    },
    {
     "data": {
      "text/plain": [
       "[<matplotlib.lines.Line2D at 0x7f597360c710>]"
      ]
     },
     "execution_count": 176,
     "metadata": {},
     "output_type": "execute_result"
    },
    {
     "data": {
      "text/plain": [
       "[<matplotlib.lines.Line2D at 0x7f59736351d0>]"
      ]
     },
     "execution_count": 176,
     "metadata": {},
     "output_type": "execute_result"
    },
    {
     "data": {
      "text/plain": [
       "[<matplotlib.lines.Line2D at 0x7f596e9dded0>]"
      ]
     },
     "execution_count": 176,
     "metadata": {},
     "output_type": "execute_result"
    },
    {
     "data": {
      "text/plain": [
       "[<matplotlib.lines.Line2D at 0x7f597b42bc90>]"
      ]
     },
     "execution_count": 176,
     "metadata": {},
     "output_type": "execute_result"
    },
    {
     "data": {
      "text/plain": [
       "[<matplotlib.lines.Line2D at 0x7f597b46d0d0>]"
      ]
     },
     "execution_count": 176,
     "metadata": {},
     "output_type": "execute_result"
    },
    {
     "data": {
      "image/png": "[encoded data removed]",
      "text/plain": [
       "<Figure size 1500x750 with 7 Axes>"
      ]
     },
     "metadata": {},
     "output_type": "display_data"
    }
   ],
   "source": [
    "fig = plt.figure(figsize=(15,7.5))\n",
    "\n",
    "ax0 = fig.add_subplot(4, 2, 1, xlabel='t', ylabel='$v_{c1}$')\n",
    "ax0.plot(t, gah[0])\n",
    "\n",
    "ax1 = fig.add_subplot(4, 2, 2, xlabel='t', ylabel='$v_{c2}$',)\n",
    "ax1.plot(t, gah[1])\n",
    "\n",
    "ax2 = fig.add_subplot(4, 2, 3, xlabel='t', ylabel='$v_{c3}$',)\n",
    "ax2.plot(t, gah[2])\n",
    "\n",
    "ax3 = fig.add_subplot(4, 2, 4, xlabel='t', ylabel='$v_{cb}$',)\n",
    "ax3.plot(t, gah[3])\n",
    "\n",
    "ax4 = fig.add_subplot(4, 2, 5, xlabel='t', ylabel='$i_L$',)\n",
    "ax4.plot(t, gah[4])\n",
    "\n",
    "ax5 = fig.add_subplot(4, 2, 6, xlabel='t', ylabel='$i_{ch}$',)\n",
    "ax5.plot(t, gah[5])\n",
    "\n",
    "ax5 = fig.add_subplot(4, 2, 7, xlabel='t', ylabel='$i_{e}$',)\n",
    "#ax5.plot(t, gah[6])"
   ]
  },
  {
   "cell_type": "code",
   "execution_count": 35,
   "id": "353b154c",
   "metadata": {},
   "outputs": [],
   "source": [
    "ir1, ir2, ir3, irch = sym.symbols('ir1, ir2, ir3, irch')\n",
    "r1, r2, r3, rch, b, vbe, g, Vs = sym.symbols('r1, r2, r3, rch, b, vbe, g, Vs')"
   ]
  },
  {
   "cell_type": "code",
   "execution_count": 37,
   "id": "b2fb6daf",
   "metadata": {},
   "outputs": [],
   "source": [
    "f1 = g*ir3+ir2-ir1\n",
    "f2 = ir1*r1+ir2*r2-Vs\n",
    "f3 = vbe+ir3*r3-ir2*r2\n",
    "f4 = ir2+ir3-ir1-irch\n",
    "f5 = irch*rch- (Vs-irch*rch-(ir2*r2-ir3*r3)-ir3*r3) -ir1*r1"
   ]
  },
  {
   "cell_type": "code",
   "execution_count": 38,
   "id": "a2524842",
   "metadata": {},
   "outputs": [
    {
     "data": {
      "text/latex": [
       "$\\displaystyle - ir_{1} + ir_{2} + ir_{3}$"
      ],
      "text/plain": [
       "-ir1 + ir2 + ir3"
      ]
     },
     "execution_count": 38,
     "metadata": {},
     "output_type": "execute_result"
    },
    {
     "data": {
      "text/plain": [
       "[(Vs - ir2*r2)/r1]"
      ]
     },
     "execution_count": 38,
     "metadata": {},
     "output_type": "execute_result"
    },
    {
     "data": {
      "text/latex": [
       "$\\displaystyle \\frac{- Vs + ir_{2} r_{2} + 2 ir_{2} rch + 2 ir_{3} rch}{r_{1} + 2 rch} - \\frac{Vs - ir_{2} r_{2}}{r_{1}}$"
      ],
      "text/plain": [
       "(-Vs + ir2*r2 + 2*ir2*rch + 2*ir3*rch)/(r1 + 2*rch) - (Vs - ir2*r2)/r1"
      ]
     },
     "execution_count": 38,
     "metadata": {},
     "output_type": "execute_result"
    },
    {
     "data": {
      "text/latex": [
       "$\\displaystyle - g ir_{3} - ir_{2} + \\frac{Vs - ir_{2} r_{2}}{r_{1}}$"
      ],
      "text/plain": [
       "-g*ir3 - ir2 + (Vs - ir2*r2)/r1"
      ]
     },
     "execution_count": 38,
     "metadata": {},
     "output_type": "execute_result"
    }
   ],
   "source": [
    "g4 = sym.solve(f4, irch)\n",
    "g5 = sym.solve(f5, irch)\n",
    "g4[0]\n",
    "g4 = g4[0] - g5[0]\n",
    "g2 = sym.solve(f2, ir1)\n",
    "g2\n",
    "g4 = sym.solve(g4, ir1)\n",
    "g4 = g4[0] - g2[0]\n",
    "g4\n",
    "g1 = sym.solve(f1, ir1)\n",
    "g1 = g2[0] - g1[0]\n",
    "g1"
   ]
  },
  {
   "cell_type": "code",
   "execution_count": 39,
   "id": "2b023a23",
   "metadata": {},
   "outputs": [
    {
     "data": {
      "text/latex": [
       "$\\displaystyle \\frac{Vs - g ir_{3} r_{1}}{2 \\left(r_{1} + r_{2}\\right)} + \\frac{Vs r_{1} + Vs rch - ir_{3} r_{1} rch}{2 \\left(r_{1} r_{2} + r_{1} rch + r_{2} rch\\right)}$"
      ],
      "text/plain": [
       "(Vs - g*ir3*r1)/(2*(r1 + r2)) + (Vs*r1 + Vs*rch - ir3*r1*rch)/(2*(r1*r2 + r1*rch + r2*rch))"
      ]
     },
     "execution_count": 39,
     "metadata": {},
     "output_type": "execute_result"
    }
   ],
   "source": [
    "g4 = sym.solve(g4, ir2)\n",
    "g1 = sym.solve(g1, ir2)\n",
    "g1 = (g4[0]+g1[0])/2\n",
    "g1  ### = ir2"
   ]
  },
  {
   "cell_type": "code",
   "execution_count": 40,
   "id": "a9486cc8",
   "metadata": {},
   "outputs": [
    {
     "data": {
      "text/latex": [
       "$\\displaystyle \\frac{Vs - g ir_{3} r_{1}}{2 \\left(r_{1} + r_{2}\\right)} + \\frac{Vs r_{1} + Vs rch - ir_{3} r_{1} rch}{2 \\left(r_{1} r_{2} + r_{1} rch + r_{2} rch\\right)} - \\frac{ir_{3} r_{3} + vbe}{r_{2}}$"
      ],
      "text/plain": [
       "(Vs - g*ir3*r1)/(2*(r1 + r2)) + (Vs*r1 + Vs*rch - ir3*r1*rch)/(2*(r1*r2 + r1*rch + r2*rch)) - (ir3*r3 + vbe)/r2"
      ]
     },
     "execution_count": 40,
     "metadata": {},
     "output_type": "execute_result"
    }
   ],
   "source": [
    "g3 = sym.solve(f3, ir2)\n",
    "g3 = g1-g3[0]\n",
    "g3"
   ]
  },
  {
   "cell_type": "code",
   "execution_count": 41,
   "id": "f7ae2961",
   "metadata": {},
   "outputs": [],
   "source": [
    "g3 = sym.solve(g3, vbe)"
   ]
  },
  {
   "cell_type": "code",
   "execution_count": 59,
   "id": "39998928",
   "metadata": {},
   "outputs": [
    {
     "data": {
      "text/plain": [
       "[(-0.00980392156862745*r1**2*r2**2 - r1**2*r2*r3 - 0.509803921568627*r1**2*r2*rch - r1**2*r3*rch - r1*r2**2*r3 - 0.509803921568627*r1*r2**2*rch - 2*r1*r2*r3*rch - r2**2*r3*rch)/(r1**2*r2 + r1**2*rch + r1*r2**2 + 2*r1*r2*rch + r2**2*rch)]"
      ]
     },
     "execution_count": 59,
     "metadata": {},
     "output_type": "execute_result"
    },
    {
     "data": {
      "text/plain": [
       "[(r1**2*r2/2 + r1*r2**2 + r1*r2*rch + r2**2*rch)/(r1**2*r2 + r1**2*rch + r1*r2**2 + 2*r1*r2*rch + r2**2*rch)]"
      ]
     },
     "execution_count": 59,
     "metadata": {},
     "output_type": "execute_result"
    },
    {
     "data": {
      "text/plain": [
       "[(Vs*r1**2*r2/2 + Vs*r1*r2**2 + Vs*r1*r2*rch + Vs*r2**2*rch - g*ir3*r1**2*r2**2/2 - g*ir3*r1**2*r2*rch/2 - g*ir3*r1*r2**2*rch/2 - ir3*r1**2*r2*r3 - ir3*r1**2*r2*rch/2 - ir3*r1**2*r3*rch - ir3*r1*r2**2*r3 - ir3*r1*r2**2*rch/2 - 2*ir3*r1*r2*r3*rch - ir3*r2**2*r3*rch)/(r1**2*r2 + r1**2*rch + r1*r2**2 + 2*r1*r2*rch + r2**2*rch)]"
      ]
     },
     "execution_count": 59,
     "metadata": {},
     "output_type": "execute_result"
    },
    {
     "data": {
      "text/latex": [
       "$\\displaystyle \\frac{\\frac{r_{1}^{2} r_{2}}{2} + r_{1} r_{2}^{2} + r_{1} r_{2} rch + r_{2}^{2} rch}{r_{1}^{2} r_{2} + r_{1}^{2} rch + r_{1} r_{2}^{2} + 2 r_{1} r_{2} rch + r_{2}^{2} rch}$"
      ],
      "text/plain": [
       "(r1**2*r2/2 + r1*r2**2 + r1*r2*rch + r2**2*rch)/(r1**2*r2 + r1**2*rch + r1*r2**2 + 2*r1*r2*rch + r2**2*rch)"
      ]
     },
     "execution_count": 59,
     "metadata": {},
     "output_type": "execute_result"
    }
   ],
   "source": [
    "Epsilon = [0]\n",
    "Epsilon[0] = g3[0].replace(Vs, 0).replace(ir3, 1).replace(g, (1/(b+1)))\n",
    "Epsilon\n",
    "Delta = [0]\n",
    "Delta[0] = g3[0].replace(ir3, 0).replace(Vs, 1).replace(g, (1/(b+1)))\n",
    "Delta\n",
    "g3\n",
    "Delta[0]"
   ]
  },
  {
   "cell_type": "code",
   "execution_count": null,
   "id": "1f9ce8c4",
   "metadata": {},
   "outputs": [],
   "source": []
  }
 ],
 "metadata": {
  "kernelspec": {
   "display_name": "Python 3 (ipykernel)",
   "language": "python",
   "name": "python3"
  },
  "language_info": {
   "codemirror_mode": {
    "name": "ipython",
    "version": 3
   },
   "file_extension": ".py",
   "mimetype": "text/x-python",
   "name": "python",
   "nbconvert_exporter": "python",
   "pygments_lexer": "ipython3",
   "version": "3.11.4"
  }
 },
 "nbformat": 4,
 "nbformat_minor": 5
}
