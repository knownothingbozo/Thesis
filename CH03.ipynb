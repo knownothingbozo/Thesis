{
 "cells": [
  {
   "cell_type": "code",
   "execution_count": 21,
   "id": "06ec4c21",
   "metadata": {},
   "outputs": [
    {
     "data": {
      "text/html": [
       "<style>.container { width:90% !important; }</style>"
      ],
      "text/plain": [
       "<IPython.core.display.HTML object>"
      ]
     },
     "metadata": {},
     "output_type": "display_data"
    }
   ],
   "source": [
    "import math\n",
    "import sympy as sym\n",
    "import matplotlib.pyplot as plt\n",
    "import numpy as np\n",
    "from IPython.core.interactiveshell import InteractiveShell\n",
    "InteractiveShell.ast_node_interactivity = 'all'\n",
    "from sympy.abc import beta\n",
    "\n",
    "from IPython.display import display, HTML, Math\n",
    "display(HTML(\"<style>.container { width:90% !important; }</style>\"))"
   ]
  },
  {
   "cell_type": "code",
   "execution_count": 9,
   "id": "711a6cc7",
   "metadata": {},
   "outputs": [],
   "source": [
    "v1, v2, v3, vb, il, ilc, ic = sym.symbols('v1, v2, v3, vb, il, ilc, ic')\n",
    "dv1, dv2, dv3, dvb, dil, dilc, dic = sym.symbols('dv1, dv2, dv3, dvb, dil, dilc, dic')\n",
    "r1, r2, r3, rl = sym.symbols('r1, r2, r3, rl')\n",
    "c1, c2, c3, cb = sym.symbols('c1, c2, c3, cb')\n",
    "l, lc = sym.symbols('l, lc')\n",
    "vs, b = sym.symbols('vs, b')"
   ]
  },
  {
   "cell_type": "code",
   "execution_count": 49,
   "id": "963c9cea",
   "metadata": {},
   "outputs": [],
   "source": [
    "f1 = -v1 +v2 +il*rl +l*dil\n",
    "f2 = -ilc +ic +il +c1*dv1\n",
    "f3 = -c2*dv2 +cb*dvb +il\n",
    "#f4 = -ilc -(vs -vb -v2)/r1 +c1*dv1 +c2*dv2 +c2*dv3 +v3/r3 +(vb +v2)/r2\n",
    "f5 = -(vs -vb -v2)/r1 +(vb +v2)/r2 +cb*dvb + b*ic\n",
    "f6 = -ic*(b/(b+1)) +v3/r3 + c3*dv3\n",
    "f7 = -vs +lc*dil +v1"
   ]
  },
  {
   "cell_type": "code",
   "execution_count": 50,
   "id": "4338f2f0",
   "metadata": {},
   "outputs": [
    {
     "data": {
      "text/latex": [
       "$\\displaystyle dil l + il rl - v_{1} + v_{2}$"
      ],
      "text/plain": [
       "dil*l + il*rl - v1 + v2"
      ]
     },
     "execution_count": 50,
     "metadata": {},
     "output_type": "execute_result"
    },
    {
     "data": {
      "text/latex": [
       "$\\displaystyle c_{1} dv_{1} + ic + il - ilc$"
      ],
      "text/plain": [
       "c1*dv1 + ic + il - ilc"
      ]
     },
     "execution_count": 50,
     "metadata": {},
     "output_type": "execute_result"
    },
    {
     "data": {
      "text/latex": [
       "$\\displaystyle - c_{2} dv_{2} + cb dvb + il$"
      ],
      "text/plain": [
       "-c2*dv2 + cb*dvb + il"
      ]
     },
     "execution_count": 50,
     "metadata": {},
     "output_type": "execute_result"
    },
    {
     "data": {
      "text/latex": [
       "$\\displaystyle b ic + cb dvb + \\frac{v_{2} + vb}{r_{2}} + \\frac{v_{2} + vb - vs}{r_{1}}$"
      ],
      "text/plain": [
       "b*ic + cb*dvb + (v2 + vb)/r2 + (v2 + vb - vs)/r1"
      ]
     },
     "execution_count": 50,
     "metadata": {},
     "output_type": "execute_result"
    },
    {
     "data": {
      "text/latex": [
       "$\\displaystyle - \\frac{b ic}{b + 1} + c_{3} dv_{3} + \\frac{v_{3}}{r_{3}}$"
      ],
      "text/plain": [
       "-b*ic/(b + 1) + c3*dv3 + v3/r3"
      ]
     },
     "execution_count": 50,
     "metadata": {},
     "output_type": "execute_result"
    },
    {
     "data": {
      "text/latex": [
       "$\\displaystyle dil lc + v_{1} - vs$"
      ],
      "text/plain": [
       "dil*lc + v1 - vs"
      ]
     },
     "execution_count": 50,
     "metadata": {},
     "output_type": "execute_result"
    }
   ],
   "source": [
    "f1\n",
    "f2\n",
    "f3\n",
    "#f4\n",
    "f5\n",
    "f6\n",
    "f7"
   ]
  },
  {
   "cell_type": "code",
   "execution_count": 55,
   "id": "616c1204",
   "metadata": {},
   "outputs": [],
   "source": [
    "g1 = sym.solve(f2, dv1)\n",
    "g4 = sym.solve(f5, dvb)\n",
    "g2 = sym.solve(f3, dvb)\n",
    "g2 = g2[0] - g4[0]\n",
    "g2 = sym.solve(g2, dv2)\n",
    "g3 = sym.solve(f6, dv3)\n",
    "g5 = sym.solve(f1, dil)\n",
    "g6 = sym.solve(f7, dil)"
   ]
  },
  {
   "cell_type": "code",
   "execution_count": 56,
   "id": "e73c6aa7",
   "metadata": {},
   "outputs": [
    {
     "data": {
      "text/latex": [
       "$\\displaystyle \\frac{- ic - il + ilc}{c_{1}}$"
      ],
      "text/plain": [
       "(-ic - il + ilc)/c1"
      ]
     },
     "execution_count": 56,
     "metadata": {},
     "output_type": "execute_result"
    },
    {
     "data": {
      "text/latex": [
       "$\\displaystyle \\frac{- r_{1} r_{2} \\left(b ic - il\\right) - r_{1} \\left(v_{2} + vb\\right) - r_{2} \\left(v_{2} + vb - vs\\right)}{c_{2} r_{1} r_{2}}$"
      ],
      "text/plain": [
       "(-r1*r2*(b*ic - il) - r1*(v2 + vb) - r2*(v2 + vb - vs))/(c2*r1*r2)"
      ]
     },
     "execution_count": 56,
     "metadata": {},
     "output_type": "execute_result"
    },
    {
     "data": {
      "text/latex": [
       "$\\displaystyle \\frac{b ic r_{3} - b v_{3} - v_{3}}{c_{3} r_{3} \\left(b + 1\\right)}$"
      ],
      "text/plain": [
       "(b*ic*r3 - b*v3 - v3)/(c3*r3*(b + 1))"
      ]
     },
     "execution_count": 56,
     "metadata": {},
     "output_type": "execute_result"
    },
    {
     "data": {
      "text/latex": [
       "$\\displaystyle \\frac{- b ic r_{1} r_{2} - r_{1} \\left(v_{2} + vb\\right) + r_{2} \\left(- v_{2} - vb + vs\\right)}{cb r_{1} r_{2}}$"
      ],
      "text/plain": [
       "(-b*ic*r1*r2 - r1*(v2 + vb) + r2*(-v2 - vb + vs))/(cb*r1*r2)"
      ]
     },
     "execution_count": 56,
     "metadata": {},
     "output_type": "execute_result"
    },
    {
     "data": {
      "text/latex": [
       "$\\displaystyle \\frac{- il rl + v_{1} - v_{2}}{l}$"
      ],
      "text/plain": [
       "(-il*rl + v1 - v2)/l"
      ]
     },
     "execution_count": 56,
     "metadata": {},
     "output_type": "execute_result"
    },
    {
     "data": {
      "text/latex": [
       "$\\displaystyle \\frac{- v_{1} + vs}{lc}$"
      ],
      "text/plain": [
       "(-v1 + vs)/lc"
      ]
     },
     "execution_count": 56,
     "metadata": {},
     "output_type": "execute_result"
    }
   ],
   "source": [
    "g1[0]\n",
    "sym.simplify(g2[0])\n",
    "g3[0]\n",
    "g4[0]\n",
    "g5[0]\n",
    "g6[0]"
   ]
  }
 ],
 "metadata": {
  "kernelspec": {
   "display_name": "Python 3 (ipykernel)",
   "language": "python",
   "name": "python3"
  },
  "language_info": {
   "codemirror_mode": {
    "name": "ipython",
    "version": 3
   },
   "file_extension": ".py",
   "mimetype": "text/x-python",
   "name": "python",
   "nbconvert_exporter": "python",
   "pygments_lexer": "ipython3",
   "version": "3.11.4"
  }
 },
 "nbformat": 4,
 "nbformat_minor": 5
}
